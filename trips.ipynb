import folium
from folium import plugins
import pandas as pd
import geopandas as gpd
import matplotlib.pyplot
from matplotlib.pyplot import figure
from shapely.geometry import Point
from folium.plugins import HeatMap
from folium.plugins import AntPath

f = folium.Figure(width=1500, height=1500)

m = folium.Map(location=[47.6097, -122.3422], 
               min_zoom=0, zoom_start=13, max_zoom=20
              ).add_to(f)

plugins.Fullscreen(position='topleft', title='Full Screen', title_cancel='Exit Full Screen', force_separate_button=False)

df = pd.read_csv('geoacts.csv')
locations = list(zip(df["lat"], df["long"]))
locations
HeatMap(locations).add_to(m)
m
